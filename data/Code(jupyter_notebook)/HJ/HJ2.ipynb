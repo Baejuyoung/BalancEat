{
 "cells": [
  {
   "cell_type": "markdown",
   "metadata": {},
   "source": [
    "### 가설2\n",
    "미국이 51개 주로 나뉘어있고, 거기서 주마다 부자들이 많이 사는 동네가 있고, 상대적으로 가난한 사람들이 많이 사는 동네가 있잖아요?\n",
    "필연적으로 먹는 음식의 질에서 불균형이 일어날 수 밖에 없는데 가령 예를 들어 못사는 동네에서는 패스트푸드 혹은 정크푸드의 소비비율이 상대적으로 높을꺼고, 잘 사는 동네에서는 균형잡힌 식단으로 먹고 사는 사람의 비율이 높아지니까 두 동네 사이에서 영양가의 차이가 확실히 날 수 밖에 없게 되니 비교하기 좋은 지표...(ex. 기대수명, 사망률, etc..) 를 비교함?\n",
    "\n",
    "미국 빈민층과 부유층 뒷배경을 서술하면 질병관련 자료와 건강식추천과 구독서비스가 서로 잘 맞지 않는 것 같음?  \n",
    "-> 일반화 : 영양상태에 따른 기대수명 변화????"
   ]
  },
  {
   "cell_type": "markdown",
   "metadata": {},
   "source": [
    "### 필요 데이터(미국)\n",
    "1. 주마다의 평균 소득.  ->  지엽적인 데이터밖에 존재하지 않음.. \n",
    "2. 대표 음식?(많이 먹는 음식?)  ->  Not Exist.\n",
    "3. 주마다 평균 비교지표(기대수명, 사망률, etc...(찾아보면서 추가할 것이 있으면 추가하자.))  ->  앞의 2개가 없음에 따라 찾는 것이 무의미.\n",
    "\n",
    "#### 데이터를 찾아보자!! (XX)\n",
    "...\n",
    "\n",
    "### 현재 새로 찾은 데이터.(kaggle의 food quality라고 검색했을 때 의미있다 생각하고 뽑았던 full dataset..)\n",
    "1. 각 국가별 인구수,땅 크기, 인구밀도, 영아사망률, GDP, 문맹률.  \n",
    "2. WHO 국가별 기대수명 데이터.  \n",
    "3. 각 국가별 주요 곡물 생산데이터.(del_와인)\n",
    "    - 생산량과 가격이 나눠져있음. 만약 쓰게된다면 이 데이터를 합치는 과정이 필요함.\n",
    "    - ... 다른 곳에서 쓴다면 모를까 여기선 쓸 일이 없어보임.\n",
    "4. food quality?? (X ... 식품검사과의 검사.)"
   ]
  },
  {
   "cell_type": "code",
   "execution_count": 1,
   "metadata": {},
   "outputs": [
    {
     "name": "stdout",
     "output_type": "stream",
     "text": [
      "3\n"
     ]
    }
   ],
   "source": [
    "print(3)"
   ]
  }
 ],
 "metadata": {
  "interpreter": {
   "hash": "560c492c293c02ae4a3253a50c4deb63a9cc7f3296b0f6ad22562d2e1b889466"
  },
  "kernelspec": {
   "display_name": "Python 3.10.0 64-bit",
   "language": "python",
   "name": "python3"
  },
  "language_info": {
   "codemirror_mode": {
    "name": "ipython",
    "version": 3
   },
   "file_extension": ".py",
   "mimetype": "text/x-python",
   "name": "python",
   "nbconvert_exporter": "python",
   "pygments_lexer": "ipython3",
   "version": "3.10.0"
  },
  "orig_nbformat": 4
 },
 "nbformat": 4,
 "nbformat_minor": 2
}
