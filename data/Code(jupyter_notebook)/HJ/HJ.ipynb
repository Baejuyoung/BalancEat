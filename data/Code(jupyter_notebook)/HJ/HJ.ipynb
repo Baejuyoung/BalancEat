{
 "cells": [
  {
   "cell_type": "markdown",
   "metadata": {},
   "source": [
    "##### vscode를 통해 처음 판다스를 실행했는데 내가 사용할 몇몇 모듈이 작동을 안하더라..\n",
    "#### 해결방법.\n",
    "1. vs코드의 python이 실행되는 위치를 찾음.\n",
    "2. 그쪽에서 내가 사용할 모듈을 install.\n",
    "3. (추후..) 가능할 경우 파이썬 혹은 주피터 노트북을 실행할 때 모듈 로드 경로를 바꿔줘야지.."
   ]
  },
  {
   "cell_type": "code",
   "execution_count": 7,
   "metadata": {},
   "outputs": [
    {
     "name": "stdout",
     "output_type": "stream",
     "text": [
      "3\n",
      "done\n"
     ]
    }
   ],
   "source": [
    "# from sys import executable                                                        \n",
    "# print(executable)\n",
    "# !/Users/Duggubi/AppData/Local/Programs/Python/Python310/python.exe -m pip install pandas\n",
    "# !/Users/Duggubi/AppData/Local/Programs/Python/Python310/python.exe -m pip install matplotlib\n",
    "# !/Users/Duggubi/AppData/Local/Programs/Python/Python310/python.exe -m pip install seaborn\n",
    "# 만약 나처럼 한다고 하면 1,2번째 줄을 통해 먼저 파이썬이 실행되는 곳의 경로를 찾은 후 모듈을 설치해주자.\n",
    "\n",
    "print(3)\n",
    "\n",
    "import numpy as np\n",
    "import pandas as pd\n",
    "import matplotlib.pyplot as plt\n",
    "import seaborn as sns\n",
    "# done.\n",
    "print('done')"
   ]
  },
  {
   "cell_type": "markdown",
   "metadata": {},
   "source": [
    "프로젝트에 사용할 데이터를 한참 찾다가 지쳐서 생각을 리프레싱한 후 다른 종류의 데이터를 찾게 되었다.  \n",
    "찾은 데이터의 종류는 1970년부터 2016년까지 국가별 영유아 사망률, 출산률, 소득 데이터!  \n",
    "우선 분석에 앞서 설명을 먼저 적고자 한다.  \n",
    "이 데이터를 뽑게 된 근거는 사람의 영유아 시기가 건강과 관련해서 정말 민감한 나이라는 것 때문이다. \n",
    "\n",
    "새 index추가(영양성분 관련)  \n",
    "\n",
    "다른 문제 : 영유아 -> 일반인으로 확대할 방법? -> 신체적, 정신적 부분..? -> \n",
    "<!-- ! 아예 영유아에 초점을 맞추면 어떨까? -->\n",
    "<!-- ! 함부로 내가?.. 모르겠다. 이건.. -->\n",
    "<!-- 강찬석 코치님 추천.. -->\n",
    "<!-- 아예 영유아를 대상으로 서비스?? 시중에 이유식이 유아 식단과 관련된 책들도 많은데 제각각 어떤거를 줘야하는지 서로 다름. -->\n",
    "<!-- 아예 영유아에 대한 데이터? => 만약 유아와 관련된 데이터 자체를 찾게 된다면 그냥 그걸 분석해서 팔아도 이득일 정도...,,, 한마디로 구하는게 불가능에 가까운 수준. -->\n",
    "<!-- 확실한 것은 영유아기에는 결핍과 마찬가지로 과잉도 역시 많이 안좋다는 것.(많이 예민하기 때문에 당연히 나올 수 있는 결론,,) -->\n",
    "<!-- 그동안 찾은 수많은 논문에 따르면 생후 첫 6개월 동안은 되도록 모유 수유를 하는 것이 좋다고 한다.. -->\n",
    "<!-- But, 그 이후는..?.. -->\n",
    "문제 많음..(주석)  \n",
    "\n",
    "### aim.\n",
    "그래프를 보여주는 서비스를 만들어라.. -> 서비스 주제 : 충분한 영양 섭취를 하자.(음식/식자재? 추천.)\n",
    "\n",
    "### 문제.\n",
    "\n",
    "- 왜 균형잡힌 영양섭취를 해야 할까?\n",
    "    1. 건강하게 살기 위해.\n",
    "        - 왜 건강하게 살아야 할까?\n",
    "            - 그래야 활동의 폭이 넓어져서 뭐든 할 수 있으니까(더 나은 조건으로 살 수 있으니까?).\n",
    "            - 아프기 싫으니까. <!--! 여기에 초점이 맞춰짐, 그리고 정말 재일 큰 이유인듯? -->\n",
    "    2. 오래 살기 위해.\n",
    "        - 왜 오래 살아야 할까?\n",
    "            - 인간본능.  <!-- 재미있어서일까?.. -->\n",
    "    3. 무엇을 위해서?\n",
    "        - 무언가의 원인 혹은 결과론적 이유.\n",
    "\n",
    "<!-- \n",
    "- 내가 살아가는 이유..?\n",
    "    - 사는 것이 즐거우니까.\n",
    "        - 왜?\n",
    "            - 생각하고, 고민하고, 궁리하고, 활동하고, 보고, 듣는 많은?대부분의?? 것들이 내 흥미를 끄니까. \n",
    "    - 내가 죽었을 때 눈물을 흘릴, 내가 사랑하는 사람이 있으니까.\n",
    "        - 왜 중요하지?\n",
    "            - 슬픔의 아득함이 무엇인지 알고 있으니까.\n",
    "-->\n",
    "\n",
    "\n",
    "### 가설\n",
    "- 수익이 적은 나라일수록 영유아의 영양 섭취가 상대적으로 부족할 수 밖에 없고, 따라서 영아 사망률이 높게 나올 수 밖에 없다는 것!\n",
    "-> 틀린 가설.\n",
    "\n",
    "- (WANTED..) 왜 일반인들(target)이 균형잡힌 영양 섭취가 중요할까?.. 중요하지 않다. 단지 중요하게 생각하는 사람이 있을 뿐.. 당위성??.. Noob.\n",
    "    - target들은 무엇을 기대하며 우리 서비스를 이용할까?\n",
    "        1. 첫째로, 당연히 좋은 추천서비스.\n",
    "            - 좋은 서비스의 정의는?\n",
    "                - 어떤 효과를 얻을 수 있는 서비스.\n",
    "                    1. (만약 경쟁자가 있다면)어떤 방면에서 더 효과적이라 입증할 수 있는, 혹은 그렇게 보이는 서비스.\n",
    "                    2. (만약 경쟁자가 없다면)확실하게 효과를 얻을 수 있는 서비스.\n",
    "        \n",
    "        2. 둘째로, 메인이 아닌 서비스를 이용하는 사람.\n",
    "            - 1번과 마찬가지.\n",
    "\n",
    "    - 어떻게 고객을 끌어들일 수 있을까?\n",
    "        1. 광고.\n",
    "            - But, 현재로써는 그 수단을 이용할 방법이 없음.\n",
    "        2. XXXX -- 구현에 초점을. \n",
    "\n",
    "<!--! 산업혁명 초기.. 발전과 기대수명의 증가는 반드시 비례하지 않음.. \n",
    "이로부터 기대수명의 증가는 최소 2차적인 요소부터 연관이 있게 됨을 알 수 있다. -->\n",
    "\n",
    "## 사용한 데이터 및 논문의 주소\n",
    "### 데이터 링크 \n",
    "https://www.kaggle.com/datasets/burhanykiyakoglu/infant-mortality-fertility-income\n",
    "\n",
    "### 논문 링크\n",
    "1. 새로운 index  (X).. \n",
    "이와 관련된 어떤 논문을 찾을 수 없었으며, 여러 자료를 살펴본 결과 국가마다의 상황이 어느정도 고려되야 할 수 밖에 없지만  \n",
    "기본적으로 모든 국가에서 영/유아들이 필요로 하는 대부분(모든?)의 영양소를 챙길 수 있는 환경에 있다.\n",
    "(간단히, 그런 환경이 아니라면 인수밀도가 급격하게 낮아질 수 밖에 없음..feat. 알레스카 & 시베리아.) \n",
    "\n",
    "2. 영유아 --> 일반인으로 허들을 높일 방법?\n",
    "\n",
    "(영아사망률 -> 기대수명률과의 높은 연관성., but 모든 계층의 사망률의 감소가 기대수명을 늘리는 것에 기여..)  \n",
    "https://ourworldindata.org/child-mortality  \n",
    "https://ourworldindata.org/life-expectancy  \n",
    "\n",
    "### col설명(필요한것만)  \n",
    " \n",
    "m1970, …, m2016: Mortality rate, infant (per 1,000 live births) between 1970 and 2016\n",
    "\n",
    " i1970, …, i2016: Adjusted net national income per capita (current US$) between 1970 and 2016\n",
    "\n",
    " (f1970, …, f2016: Fertility rate, total (births per woman) between 1970 and 2016) - 안씀"
   ]
  },
  {
   "cell_type": "code",
   "execution_count": 8,
   "metadata": {},
   "outputs": [
    {
     "data": {
      "text/html": [
       "<div>\n",
       "<style scoped>\n",
       "    .dataframe tbody tr th:only-of-type {\n",
       "        vertical-align: middle;\n",
       "    }\n",
       "\n",
       "    .dataframe tbody tr th {\n",
       "        vertical-align: top;\n",
       "    }\n",
       "\n",
       "    .dataframe thead th {\n",
       "        text-align: right;\n",
       "    }\n",
       "</style>\n",
       "<table border=\"1\" class=\"dataframe\">\n",
       "  <thead>\n",
       "    <tr style=\"text-align: right;\">\n",
       "      <th></th>\n",
       "      <th>Country Name</th>\n",
       "      <th>Country Code</th>\n",
       "      <th>Region</th>\n",
       "      <th>m1970</th>\n",
       "      <th>m1971</th>\n",
       "      <th>m1972</th>\n",
       "      <th>m1973</th>\n",
       "      <th>m1974</th>\n",
       "      <th>m1975</th>\n",
       "      <th>m1976</th>\n",
       "      <th>...</th>\n",
       "      <th>i2007</th>\n",
       "      <th>i2008</th>\n",
       "      <th>i2009</th>\n",
       "      <th>i2010</th>\n",
       "      <th>i2011</th>\n",
       "      <th>i2012</th>\n",
       "      <th>i2013</th>\n",
       "      <th>i2014</th>\n",
       "      <th>i2015</th>\n",
       "      <th>i2016</th>\n",
       "    </tr>\n",
       "  </thead>\n",
       "  <tbody>\n",
       "    <tr>\n",
       "      <th>0</th>\n",
       "      <td>Aruba</td>\n",
       "      <td>ABW</td>\n",
       "      <td>Latin America &amp; Caribbean</td>\n",
       "      <td>NaN</td>\n",
       "      <td>NaN</td>\n",
       "      <td>NaN</td>\n",
       "      <td>NaN</td>\n",
       "      <td>NaN</td>\n",
       "      <td>NaN</td>\n",
       "      <td>NaN</td>\n",
       "      <td>...</td>\n",
       "      <td>NaN</td>\n",
       "      <td>NaN</td>\n",
       "      <td>NaN</td>\n",
       "      <td>NaN</td>\n",
       "      <td>NaN</td>\n",
       "      <td>NaN</td>\n",
       "      <td>NaN</td>\n",
       "      <td>NaN</td>\n",
       "      <td>NaN</td>\n",
       "      <td>NaN</td>\n",
       "    </tr>\n",
       "    <tr>\n",
       "      <th>1</th>\n",
       "      <td>Afghanistan</td>\n",
       "      <td>AFG</td>\n",
       "      <td>South Asia</td>\n",
       "      <td>204,8</td>\n",
       "      <td>201</td>\n",
       "      <td>197</td>\n",
       "      <td>193,1</td>\n",
       "      <td>188,8</td>\n",
       "      <td>184,7</td>\n",
       "      <td>180,6</td>\n",
       "      <td>...</td>\n",
       "      <td>331,3254993</td>\n",
       "      <td>331,2271678</td>\n",
       "      <td>395,5679021</td>\n",
       "      <td>486,9793222</td>\n",
       "      <td>535,3307235</td>\n",
       "      <td>590,4566662</td>\n",
       "      <td>559,223161</td>\n",
       "      <td>548,5265822</td>\n",
       "      <td>494,2921982</td>\n",
       "      <td>489,7756091</td>\n",
       "    </tr>\n",
       "    <tr>\n",
       "      <th>2</th>\n",
       "      <td>Angola</td>\n",
       "      <td>AGO</td>\n",
       "      <td>Sub-Saharan Africa</td>\n",
       "      <td>NaN</td>\n",
       "      <td>NaN</td>\n",
       "      <td>NaN</td>\n",
       "      <td>NaN</td>\n",
       "      <td>NaN</td>\n",
       "      <td>NaN</td>\n",
       "      <td>NaN</td>\n",
       "      <td>...</td>\n",
       "      <td>629,2704433</td>\n",
       "      <td>251,732843</td>\n",
       "      <td>902,6093382</td>\n",
       "      <td>1095,241414</td>\n",
       "      <td>1219,032021</td>\n",
       "      <td>1492,119826</td>\n",
       "      <td>1853,506007</td>\n",
       "      <td>2091,133487</td>\n",
       "      <td>2062,581538</td>\n",
       "      <td>1777,44841</td>\n",
       "    </tr>\n",
       "    <tr>\n",
       "      <th>3</th>\n",
       "      <td>Albania</td>\n",
       "      <td>ALB</td>\n",
       "      <td>Europe &amp; Central Asia</td>\n",
       "      <td>NaN</td>\n",
       "      <td>NaN</td>\n",
       "      <td>NaN</td>\n",
       "      <td>NaN</td>\n",
       "      <td>NaN</td>\n",
       "      <td>NaN</td>\n",
       "      <td>NaN</td>\n",
       "      <td>...</td>\n",
       "      <td>3343,591615</td>\n",
       "      <td>3961,319155</td>\n",
       "      <td>3622,890286</td>\n",
       "      <td>3530,054028</td>\n",
       "      <td>3850,766176</td>\n",
       "      <td>3641,192766</td>\n",
       "      <td>3866,501647</td>\n",
       "      <td>3937,222372</td>\n",
       "      <td>3458,725714</td>\n",
       "      <td>3606,903851</td>\n",
       "    </tr>\n",
       "    <tr>\n",
       "      <th>4</th>\n",
       "      <td>Andorra</td>\n",
       "      <td>AND</td>\n",
       "      <td>Europe &amp; Central Asia</td>\n",
       "      <td>NaN</td>\n",
       "      <td>NaN</td>\n",
       "      <td>NaN</td>\n",
       "      <td>NaN</td>\n",
       "      <td>NaN</td>\n",
       "      <td>NaN</td>\n",
       "      <td>NaN</td>\n",
       "      <td>...</td>\n",
       "      <td>NaN</td>\n",
       "      <td>NaN</td>\n",
       "      <td>NaN</td>\n",
       "      <td>NaN</td>\n",
       "      <td>NaN</td>\n",
       "      <td>NaN</td>\n",
       "      <td>NaN</td>\n",
       "      <td>NaN</td>\n",
       "      <td>NaN</td>\n",
       "      <td>NaN</td>\n",
       "    </tr>\n",
       "  </tbody>\n",
       "</table>\n",
       "<p>5 rows × 144 columns</p>\n",
       "</div>"
      ],
      "text/plain": [
       "  Country Name Country Code                     Region  m1970 m1971 m1972  \\\n",
       "0        Aruba          ABW  Latin America & Caribbean    NaN   NaN   NaN   \n",
       "1  Afghanistan          AFG                 South Asia  204,8   201   197   \n",
       "2       Angola          AGO         Sub-Saharan Africa    NaN   NaN   NaN   \n",
       "3      Albania          ALB      Europe & Central Asia    NaN   NaN   NaN   \n",
       "4      Andorra          AND      Europe & Central Asia    NaN   NaN   NaN   \n",
       "\n",
       "   m1973  m1974  m1975  m1976  ...        i2007        i2008        i2009  \\\n",
       "0    NaN    NaN    NaN    NaN  ...          NaN          NaN          NaN   \n",
       "1  193,1  188,8  184,7  180,6  ...  331,3254993  331,2271678  395,5679021   \n",
       "2    NaN    NaN    NaN    NaN  ...  629,2704433   251,732843  902,6093382   \n",
       "3    NaN    NaN    NaN    NaN  ...  3343,591615  3961,319155  3622,890286   \n",
       "4    NaN    NaN    NaN    NaN  ...          NaN          NaN          NaN   \n",
       "\n",
       "         i2010        i2011        i2012        i2013        i2014  \\\n",
       "0          NaN          NaN          NaN          NaN          NaN   \n",
       "1  486,9793222  535,3307235  590,4566662   559,223161  548,5265822   \n",
       "2  1095,241414  1219,032021  1492,119826  1853,506007  2091,133487   \n",
       "3  3530,054028  3850,766176  3641,192766  3866,501647  3937,222372   \n",
       "4          NaN          NaN          NaN          NaN          NaN   \n",
       "\n",
       "         i2015        i2016  \n",
       "0          NaN          NaN  \n",
       "1  494,2921982  489,7756091  \n",
       "2  2062,581538   1777,44841  \n",
       "3  3458,725714  3606,903851  \n",
       "4          NaN          NaN  \n",
       "\n",
       "[5 rows x 144 columns]"
      ]
     },
     "execution_count": 8,
     "metadata": {},
     "output_type": "execute_result"
    }
   ],
   "source": [
    "data = pd.read_csv('../../Kaggle_DB/HJ/MortalityFertilityIncome.csv', delimiter= ',')\n",
    "data.head(5)"
   ]
  },
  {
   "cell_type": "code",
   "execution_count": 9,
   "metadata": {},
   "outputs": [
    {
     "data": {
      "text/html": [
       "<div>\n",
       "<style scoped>\n",
       "    .dataframe tbody tr th:only-of-type {\n",
       "        vertical-align: middle;\n",
       "    }\n",
       "\n",
       "    .dataframe tbody tr th {\n",
       "        vertical-align: top;\n",
       "    }\n",
       "\n",
       "    .dataframe thead th {\n",
       "        text-align: right;\n",
       "    }\n",
       "</style>\n",
       "<table border=\"1\" class=\"dataframe\">\n",
       "  <thead>\n",
       "    <tr style=\"text-align: right;\">\n",
       "      <th></th>\n",
       "      <th>Country Name</th>\n",
       "      <th>Region</th>\n",
       "      <th>m1970</th>\n",
       "      <th>i1970</th>\n",
       "    </tr>\n",
       "  </thead>\n",
       "  <tbody>\n",
       "    <tr>\n",
       "      <th>0</th>\n",
       "      <td>Aruba</td>\n",
       "      <td>Latin America &amp; Caribbean</td>\n",
       "      <td>NaN</td>\n",
       "      <td>NaN</td>\n",
       "    </tr>\n",
       "    <tr>\n",
       "      <th>1</th>\n",
       "      <td>Afghanistan</td>\n",
       "      <td>South Asia</td>\n",
       "      <td>204,8</td>\n",
       "      <td>150,5673375</td>\n",
       "    </tr>\n",
       "    <tr>\n",
       "      <th>2</th>\n",
       "      <td>Angola</td>\n",
       "      <td>Sub-Saharan Africa</td>\n",
       "      <td>NaN</td>\n",
       "      <td>NaN</td>\n",
       "    </tr>\n",
       "    <tr>\n",
       "      <th>3</th>\n",
       "      <td>Albania</td>\n",
       "      <td>Europe &amp; Central Asia</td>\n",
       "      <td>NaN</td>\n",
       "      <td>NaN</td>\n",
       "    </tr>\n",
       "    <tr>\n",
       "      <th>4</th>\n",
       "      <td>Andorra</td>\n",
       "      <td>Europe &amp; Central Asia</td>\n",
       "      <td>NaN</td>\n",
       "      <td>NaN</td>\n",
       "    </tr>\n",
       "    <tr>\n",
       "      <th>...</th>\n",
       "      <td>...</td>\n",
       "      <td>...</td>\n",
       "      <td>...</td>\n",
       "      <td>...</td>\n",
       "    </tr>\n",
       "    <tr>\n",
       "      <th>212</th>\n",
       "      <td>Kosovo</td>\n",
       "      <td>Europe &amp; Central Asia</td>\n",
       "      <td>NaN</td>\n",
       "      <td>NaN</td>\n",
       "    </tr>\n",
       "    <tr>\n",
       "      <th>213</th>\n",
       "      <td>Yemen, Rep.</td>\n",
       "      <td>Middle East &amp; North Africa</td>\n",
       "      <td>218,6</td>\n",
       "      <td>NaN</td>\n",
       "    </tr>\n",
       "    <tr>\n",
       "      <th>214</th>\n",
       "      <td>South Africa</td>\n",
       "      <td>Sub-Saharan Africa</td>\n",
       "      <td>NaN</td>\n",
       "      <td>NaN</td>\n",
       "    </tr>\n",
       "    <tr>\n",
       "      <th>215</th>\n",
       "      <td>Zambia</td>\n",
       "      <td>Sub-Saharan Africa</td>\n",
       "      <td>108,1</td>\n",
       "      <td>NaN</td>\n",
       "    </tr>\n",
       "    <tr>\n",
       "      <th>216</th>\n",
       "      <td>Zimbabwe</td>\n",
       "      <td>Sub-Saharan Africa</td>\n",
       "      <td>71,7</td>\n",
       "      <td>NaN</td>\n",
       "    </tr>\n",
       "  </tbody>\n",
       "</table>\n",
       "<p>217 rows × 4 columns</p>\n",
       "</div>"
      ],
      "text/plain": [
       "     Country Name                      Region  m1970        i1970\n",
       "0           Aruba   Latin America & Caribbean    NaN          NaN\n",
       "1     Afghanistan                  South Asia  204,8  150,5673375\n",
       "2          Angola          Sub-Saharan Africa    NaN          NaN\n",
       "3         Albania       Europe & Central Asia    NaN          NaN\n",
       "4         Andorra       Europe & Central Asia    NaN          NaN\n",
       "..            ...                         ...    ...          ...\n",
       "212        Kosovo       Europe & Central Asia    NaN          NaN\n",
       "213   Yemen, Rep.  Middle East & North Africa  218,6          NaN\n",
       "214  South Africa          Sub-Saharan Africa    NaN          NaN\n",
       "215        Zambia          Sub-Saharan Africa  108,1          NaN\n",
       "216      Zimbabwe          Sub-Saharan Africa   71,7          NaN\n",
       "\n",
       "[217 rows x 4 columns]"
      ]
     },
     "execution_count": 9,
     "metadata": {},
     "output_type": "execute_result"
    }
   ],
   "source": [
    "data[['Country Name','Region','m1970', 'i1970']]"
   ]
  },
  {
   "cell_type": "markdown",
   "metadata": {},
   "source": [
    "통으로 삭제해도 무관하지만 데이터의 크기가 줄어드는 것이 아쉬워서 연도별 국가 데이터를 독립이라 가정,  \n",
    "연도별로 데이터를 쪼갠 후 작업을 진행함.\n",
    "\n",
    "따라서 datas[0]의 경우 1970년도 데이터,  \n",
    "$0 \\leq i \\leq 47$의 숫자에 대하여 datas[$i$]의 경우 $1970+i$년도의 데이터를 뜻한다."
   ]
  },
  {
   "cell_type": "code",
   "execution_count": 10,
   "metadata": {},
   "outputs": [
    {
     "data": {
      "text/html": [
       "<div>\n",
       "<style scoped>\n",
       "    .dataframe tbody tr th:only-of-type {\n",
       "        vertical-align: middle;\n",
       "    }\n",
       "\n",
       "    .dataframe tbody tr th {\n",
       "        vertical-align: top;\n",
       "    }\n",
       "\n",
       "    .dataframe thead th {\n",
       "        text-align: right;\n",
       "    }\n",
       "</style>\n",
       "<table border=\"1\" class=\"dataframe\">\n",
       "  <thead>\n",
       "    <tr style=\"text-align: right;\">\n",
       "      <th></th>\n",
       "      <th>Country Name</th>\n",
       "      <th>Region</th>\n",
       "      <th>m1970</th>\n",
       "      <th>i1970</th>\n",
       "    </tr>\n",
       "  </thead>\n",
       "  <tbody>\n",
       "    <tr>\n",
       "      <th>0</th>\n",
       "      <td>Aruba</td>\n",
       "      <td>Latin America &amp; Caribbean</td>\n",
       "      <td>NaN</td>\n",
       "      <td>NaN</td>\n",
       "    </tr>\n",
       "    <tr>\n",
       "      <th>1</th>\n",
       "      <td>Afghanistan</td>\n",
       "      <td>South Asia</td>\n",
       "      <td>204,8</td>\n",
       "      <td>150,5673375</td>\n",
       "    </tr>\n",
       "    <tr>\n",
       "      <th>2</th>\n",
       "      <td>Angola</td>\n",
       "      <td>Sub-Saharan Africa</td>\n",
       "      <td>NaN</td>\n",
       "      <td>NaN</td>\n",
       "    </tr>\n",
       "    <tr>\n",
       "      <th>3</th>\n",
       "      <td>Albania</td>\n",
       "      <td>Europe &amp; Central Asia</td>\n",
       "      <td>NaN</td>\n",
       "      <td>NaN</td>\n",
       "    </tr>\n",
       "    <tr>\n",
       "      <th>4</th>\n",
       "      <td>Andorra</td>\n",
       "      <td>Europe &amp; Central Asia</td>\n",
       "      <td>NaN</td>\n",
       "      <td>NaN</td>\n",
       "    </tr>\n",
       "    <tr>\n",
       "      <th>...</th>\n",
       "      <td>...</td>\n",
       "      <td>...</td>\n",
       "      <td>...</td>\n",
       "      <td>...</td>\n",
       "    </tr>\n",
       "    <tr>\n",
       "      <th>212</th>\n",
       "      <td>Kosovo</td>\n",
       "      <td>Europe &amp; Central Asia</td>\n",
       "      <td>NaN</td>\n",
       "      <td>NaN</td>\n",
       "    </tr>\n",
       "    <tr>\n",
       "      <th>213</th>\n",
       "      <td>Yemen, Rep.</td>\n",
       "      <td>Middle East &amp; North Africa</td>\n",
       "      <td>218,6</td>\n",
       "      <td>NaN</td>\n",
       "    </tr>\n",
       "    <tr>\n",
       "      <th>214</th>\n",
       "      <td>South Africa</td>\n",
       "      <td>Sub-Saharan Africa</td>\n",
       "      <td>NaN</td>\n",
       "      <td>NaN</td>\n",
       "    </tr>\n",
       "    <tr>\n",
       "      <th>215</th>\n",
       "      <td>Zambia</td>\n",
       "      <td>Sub-Saharan Africa</td>\n",
       "      <td>108,1</td>\n",
       "      <td>NaN</td>\n",
       "    </tr>\n",
       "    <tr>\n",
       "      <th>216</th>\n",
       "      <td>Zimbabwe</td>\n",
       "      <td>Sub-Saharan Africa</td>\n",
       "      <td>71,7</td>\n",
       "      <td>NaN</td>\n",
       "    </tr>\n",
       "  </tbody>\n",
       "</table>\n",
       "<p>217 rows × 4 columns</p>\n",
       "</div>"
      ],
      "text/plain": [
       "     Country Name                      Region  m1970        i1970\n",
       "0           Aruba   Latin America & Caribbean    NaN          NaN\n",
       "1     Afghanistan                  South Asia  204,8  150,5673375\n",
       "2          Angola          Sub-Saharan Africa    NaN          NaN\n",
       "3         Albania       Europe & Central Asia    NaN          NaN\n",
       "4         Andorra       Europe & Central Asia    NaN          NaN\n",
       "..            ...                         ...    ...          ...\n",
       "212        Kosovo       Europe & Central Asia    NaN          NaN\n",
       "213   Yemen, Rep.  Middle East & North Africa  218,6          NaN\n",
       "214  South Africa          Sub-Saharan Africa    NaN          NaN\n",
       "215        Zambia          Sub-Saharan Africa  108,1          NaN\n",
       "216      Zimbabwe          Sub-Saharan Africa   71,7          NaN\n",
       "\n",
       "[217 rows x 4 columns]"
      ]
     },
     "execution_count": 10,
     "metadata": {},
     "output_type": "execute_result"
    }
   ],
   "source": [
    "datas=[]\n",
    "\n",
    "for i in range(1970,2017):\n",
    "    datas.append(data[['Country Name','Region',f'm{i}',f'i{i}']])\n",
    "datas[0]"
   ]
  },
  {
   "cell_type": "markdown",
   "metadata": {},
   "source": [
    "NaN 인 데이터의 경우 조사가 안된 케이스 이외의 다른 예외사항이 없음. infant mortality가 0이려면.... 음... 판타지로 비유했을 때  \n",
    "인간이 드래곤쯤 되면 그에 수렴할꺼고, income이 0이란거는 그 나라에 소득이 없다는 소리니 모든 국민이 백수이거나 국민의 수가 0이라는 소리가 된다.  \n",
    "결론은 del. "
   ]
  },
  {
   "cell_type": "code",
   "execution_count": 23,
   "metadata": {},
   "outputs": [],
   "source": [
    "for i in range(len(datas)):\n",
    "    datas[i] = datas[i].dropna()"
   ]
  },
  {
   "cell_type": "markdown",
   "metadata": {},
   "source": [
    "아래 2개는 데이터 확인용 예시."
   ]
  },
  {
   "cell_type": "code",
   "execution_count": 25,
   "metadata": {},
   "outputs": [
    {
     "name": "stdout",
     "output_type": "stream",
     "text": [
      "Country Name    object\n",
      "Region          object\n",
      "m1973           object\n",
      "i1973           object\n",
      "dtype: object\n"
     ]
    },
    {
     "data": {
      "text/html": [
       "<div>\n",
       "<style scoped>\n",
       "    .dataframe tbody tr th:only-of-type {\n",
       "        vertical-align: middle;\n",
       "    }\n",
       "\n",
       "    .dataframe tbody tr th {\n",
       "        vertical-align: top;\n",
       "    }\n",
       "\n",
       "    .dataframe thead th {\n",
       "        text-align: right;\n",
       "    }\n",
       "</style>\n",
       "<table border=\"1\" class=\"dataframe\">\n",
       "  <thead>\n",
       "    <tr style=\"text-align: right;\">\n",
       "      <th></th>\n",
       "      <th>Country Name</th>\n",
       "      <th>Region</th>\n",
       "      <th>m1973</th>\n",
       "      <th>i1973</th>\n",
       "    </tr>\n",
       "  </thead>\n",
       "  <tbody>\n",
       "    <tr>\n",
       "      <th>1</th>\n",
       "      <td>Afghanistan</td>\n",
       "      <td>South Asia</td>\n",
       "      <td>193,1</td>\n",
       "      <td>138,2717695</td>\n",
       "    </tr>\n",
       "    <tr>\n",
       "      <th>6</th>\n",
       "      <td>Argentina</td>\n",
       "      <td>Latin America &amp; Caribbean</td>\n",
       "      <td>56,7</td>\n",
       "      <td>1971,027932</td>\n",
       "    </tr>\n",
       "    <tr>\n",
       "      <th>10</th>\n",
       "      <td>Australia</td>\n",
       "      <td>East Asia &amp; Pacific</td>\n",
       "      <td>16,1</td>\n",
       "      <td>3983,550127</td>\n",
       "    </tr>\n",
       "    <tr>\n",
       "      <th>11</th>\n",
       "      <td>Austria</td>\n",
       "      <td>Europe &amp; Central Asia</td>\n",
       "      <td>23</td>\n",
       "      <td>3336,116637</td>\n",
       "    </tr>\n",
       "    <tr>\n",
       "      <th>14</th>\n",
       "      <td>Belgium</td>\n",
       "      <td>Europe &amp; Central Asia</td>\n",
       "      <td>17,7</td>\n",
       "      <td>4323,649878</td>\n",
       "    </tr>\n",
       "    <tr>\n",
       "      <th>...</th>\n",
       "      <td>...</td>\n",
       "      <td>...</td>\n",
       "      <td>...</td>\n",
       "      <td>...</td>\n",
       "    </tr>\n",
       "    <tr>\n",
       "      <th>202</th>\n",
       "      <td>Uruguay</td>\n",
       "      <td>Latin America &amp; Caribbean</td>\n",
       "      <td>48,4</td>\n",
       "      <td>1204,978576</td>\n",
       "    </tr>\n",
       "    <tr>\n",
       "      <th>203</th>\n",
       "      <td>United States</td>\n",
       "      <td>North America</td>\n",
       "      <td>17,5</td>\n",
       "      <td>5912,942042</td>\n",
       "    </tr>\n",
       "    <tr>\n",
       "      <th>206</th>\n",
       "      <td>Venezuela, RB</td>\n",
       "      <td>Latin America &amp; Caribbean</td>\n",
       "      <td>44,3</td>\n",
       "      <td>1358,078848</td>\n",
       "    </tr>\n",
       "    <tr>\n",
       "      <th>215</th>\n",
       "      <td>Zambia</td>\n",
       "      <td>Sub-Saharan Africa</td>\n",
       "      <td>99,8</td>\n",
       "      <td>291,7247822</td>\n",
       "    </tr>\n",
       "    <tr>\n",
       "      <th>216</th>\n",
       "      <td>Zimbabwe</td>\n",
       "      <td>Sub-Saharan Africa</td>\n",
       "      <td>70,1</td>\n",
       "      <td>552,8385128</td>\n",
       "    </tr>\n",
       "  </tbody>\n",
       "</table>\n",
       "<p>77 rows × 4 columns</p>\n",
       "</div>"
      ],
      "text/plain": [
       "      Country Name                     Region  m1973        i1973\n",
       "1      Afghanistan                 South Asia  193,1  138,2717695\n",
       "6        Argentina  Latin America & Caribbean   56,7  1971,027932\n",
       "10       Australia        East Asia & Pacific   16,1  3983,550127\n",
       "11         Austria      Europe & Central Asia     23  3336,116637\n",
       "14         Belgium      Europe & Central Asia   17,7  4323,649878\n",
       "..             ...                        ...    ...          ...\n",
       "202        Uruguay  Latin America & Caribbean   48,4  1204,978576\n",
       "203  United States              North America   17,5  5912,942042\n",
       "206  Venezuela, RB  Latin America & Caribbean   44,3  1358,078848\n",
       "215         Zambia         Sub-Saharan Africa   99,8  291,7247822\n",
       "216       Zimbabwe         Sub-Saharan Africa   70,1  552,8385128\n",
       "\n",
       "[77 rows x 4 columns]"
      ]
     },
     "execution_count": 25,
     "metadata": {},
     "output_type": "execute_result"
    }
   ],
   "source": [
    "print(datas[3].dtypes)\n",
    "datas[3]"
   ]
  },
  {
   "cell_type": "code",
   "execution_count": 54,
   "metadata": {},
   "outputs": [
    {
     "data": {
      "text/plain": [
       "<matplotlib.collections.PathCollection at 0x1aa6e0ccdc0>"
      ]
     },
     "execution_count": 54,
     "metadata": {},
     "output_type": "execute_result"
    },
    {
     "data": {
      "image/png": "[encoded data removed]",
      "text/plain": [
       "<Figure size 432x288 with 1 Axes>"
      ]
     },
     "metadata": {
      "needs_background": "light"
     },
     "output_type": "display_data"
    }
   ],
   "source": [
    "# example.\n",
    "# datas[3]['m1973'][6].replace(',','.') \n",
    "x_val_ex = [] #infant_mortality\n",
    "y_val_ex = [] #income\n",
    "for i in datas[3].index:\n",
    "    x_val_ex.append(float(datas[3]['m1973'][i].replace(',','.')))\n",
    "    y_val_ex.append(float(datas[3]['i1973'][i].replace(',','.')))\n",
    "plt.scatter(x_val_ex,y_val_ex)"
   ]
  },
  {
   "cell_type": "markdown",
   "metadata": {},
   "source": [
    "그런데 이게 겁나 맘에 안든단 말이지..,,"
   ]
  },
  {
   "cell_type": "code",
   "execution_count": 145,
   "metadata": {},
   "outputs": [
    {
     "data": {
      "image/png": "[encoded data removed]",
      "text/plain": [
       "<Figure size 432x288 with 1 Axes>"
      ]
     },
     "metadata": {
      "needs_background": "light"
     },
     "output_type": "display_data"
    }
   ],
   "source": [
    "x_val = []\n",
    "y_val = []\n",
    "for i in range(len(datas)):\n",
    "    for j in datas[i].index:\n",
    "        x_val.append(float(datas[i][f'm{1970+i}'][j].replace(',','.')))\n",
    "        y_val.append(float(datas[i][f'i{1970+i}'][j].replace(',','.')))\n",
    "plt.scatter(x_val,y_val)\n",
    "plt.xlabel('infants_mortality per 1000')\n",
    "plt.ylabel('income')\n",
    "plt.title('1970 - 2016 all data')\n",
    "plt.show()"
   ]
  },
  {
   "cell_type": "markdown",
   "metadata": {},
   "source": [
    "새로운 그래프를 뽑아보자.. ㅇㅅㅇ\n",
    "위에서는 국가별, 연도별로 데이터를 잘게잘게 분해해서 scatter graph를 뽑았다.\n",
    "이번에는?"
   ]
  },
  {
   "cell_type": "code",
   "execution_count": 58,
   "metadata": {},
   "outputs": [
    {
     "data": {
      "text/plain": [
       "Index(['Country Name', 'Country Code', 'Region', 'm1970', 'm1971', 'm1972',\n",
       "       'm1973', 'm1974', 'm1975', 'm1976',\n",
       "       ...\n",
       "       'i2007', 'i2008', 'i2009', 'i2010', 'i2011', 'i2012', 'i2013', 'i2014',\n",
       "       'i2015', 'i2016'],\n",
       "      dtype='object', length=144)"
      ]
     },
     "execution_count": 58,
     "metadata": {},
     "output_type": "execute_result"
    }
   ],
   "source": [
    "data.columns"
   ]
  },
  {
   "cell_type": "code",
   "execution_count": 63,
   "metadata": {},
   "outputs": [
    {
     "data": {
      "text/plain": [
       "array(['Latin America & Caribbean', 'South Asia', 'Sub-Saharan Africa',\n",
       "       'Europe & Central Asia', 'Middle East & North Africa',\n",
       "       'East Asia & Pacific', 'North America'], dtype=object)"
      ]
     },
     "execution_count": 63,
     "metadata": {},
     "output_type": "execute_result"
    }
   ],
   "source": [
    "data['Region'].unique()"
   ]
  },
  {
   "cell_type": "markdown",
   "metadata": {},
   "source": [
    "총 7개의 큰 지역이 있다.  \n",
    "\n",
    "'Latin America & Caribbean', 'South Asia', 'Sub-Saharan Africa',  \n",
    "'Europe & Central Asia', 'Middle East & North Africa',  \n",
    "'East Asia & Pacific', 'North America'\n",
    "\n",
    "역시 마찬가지로 이 지역들마다의 그래프를 뽑아보자."
   ]
  },
  {
   "cell_type": "code",
   "execution_count": 75,
   "metadata": {},
   "outputs": [
    {
     "name": "stdout",
     "output_type": "stream",
     "text": [
      "i.shape = (42, 144)\n",
      "i.shape = (8, 144)\n",
      "i.shape = (48, 144)\n",
      "i.shape = (58, 144)\n",
      "i.shape = (21, 144)\n",
      "i.shape = (37, 144)\n",
      "i.shape = (3, 144)\n"
     ]
    },
    {
     "data": {
      "text/html": [
       "<div>\n",
       "<style scoped>\n",
       "    .dataframe tbody tr th:only-of-type {\n",
       "        vertical-align: middle;\n",
       "    }\n",
       "\n",
       "    .dataframe tbody tr th {\n",
       "        vertical-align: top;\n",
       "    }\n",
       "\n",
       "    .dataframe thead th {\n",
       "        text-align: right;\n",
       "    }\n",
       "</style>\n",
       "<table border=\"1\" class=\"dataframe\">\n",
       "  <thead>\n",
       "    <tr style=\"text-align: right;\">\n",
       "      <th></th>\n",
       "      <th>Country Name</th>\n",
       "      <th>Country Code</th>\n",
       "      <th>Region</th>\n",
       "      <th>m1970</th>\n",
       "      <th>m1971</th>\n",
       "      <th>m1972</th>\n",
       "      <th>m1973</th>\n",
       "      <th>m1974</th>\n",
       "      <th>m1975</th>\n",
       "      <th>m1976</th>\n",
       "      <th>...</th>\n",
       "      <th>i2007</th>\n",
       "      <th>i2008</th>\n",
       "      <th>i2009</th>\n",
       "      <th>i2010</th>\n",
       "      <th>i2011</th>\n",
       "      <th>i2012</th>\n",
       "      <th>i2013</th>\n",
       "      <th>i2014</th>\n",
       "      <th>i2015</th>\n",
       "      <th>i2016</th>\n",
       "    </tr>\n",
       "  </thead>\n",
       "  <tbody>\n",
       "    <tr>\n",
       "      <th>0</th>\n",
       "      <td>Aruba</td>\n",
       "      <td>ABW</td>\n",
       "      <td>Latin America &amp; Caribbean</td>\n",
       "      <td>NaN</td>\n",
       "      <td>NaN</td>\n",
       "      <td>NaN</td>\n",
       "      <td>NaN</td>\n",
       "      <td>NaN</td>\n",
       "      <td>NaN</td>\n",
       "      <td>NaN</td>\n",
       "      <td>...</td>\n",
       "      <td>NaN</td>\n",
       "      <td>NaN</td>\n",
       "      <td>NaN</td>\n",
       "      <td>NaN</td>\n",
       "      <td>NaN</td>\n",
       "      <td>NaN</td>\n",
       "      <td>NaN</td>\n",
       "      <td>NaN</td>\n",
       "      <td>NaN</td>\n",
       "      <td>NaN</td>\n",
       "    </tr>\n",
       "    <tr>\n",
       "      <th>6</th>\n",
       "      <td>Argentina</td>\n",
       "      <td>ARG</td>\n",
       "      <td>Latin America &amp; Caribbean</td>\n",
       "      <td>59,4</td>\n",
       "      <td>58,7</td>\n",
       "      <td>57,8</td>\n",
       "      <td>56,7</td>\n",
       "      <td>55,2</td>\n",
       "      <td>53,1</td>\n",
       "      <td>50,5</td>\n",
       "      <td>...</td>\n",
       "      <td>6074,411384</td>\n",
       "      <td>7555,321873</td>\n",
       "      <td>6929,449884</td>\n",
       "      <td>8747,586438</td>\n",
       "      <td>10926,70693</td>\n",
       "      <td>11185,78485</td>\n",
       "      <td>11210,87566</td>\n",
       "      <td>10547,20618</td>\n",
       "      <td>11738,07146</td>\n",
       "      <td>10723,5525</td>\n",
       "    </tr>\n",
       "    <tr>\n",
       "      <th>9</th>\n",
       "      <td>Antigua and Barbuda</td>\n",
       "      <td>ATG</td>\n",
       "      <td>Latin America &amp; Caribbean</td>\n",
       "      <td>NaN</td>\n",
       "      <td>NaN</td>\n",
       "      <td>NaN</td>\n",
       "      <td>NaN</td>\n",
       "      <td>NaN</td>\n",
       "      <td>NaN</td>\n",
       "      <td>NaN</td>\n",
       "      <td>...</td>\n",
       "      <td>NaN</td>\n",
       "      <td>NaN</td>\n",
       "      <td>NaN</td>\n",
       "      <td>NaN</td>\n",
       "      <td>NaN</td>\n",
       "      <td>NaN</td>\n",
       "      <td>NaN</td>\n",
       "      <td>NaN</td>\n",
       "      <td>NaN</td>\n",
       "      <td>NaN</td>\n",
       "    </tr>\n",
       "    <tr>\n",
       "      <th>20</th>\n",
       "      <td>Bahamas, The</td>\n",
       "      <td>BHS</td>\n",
       "      <td>Latin America &amp; Caribbean</td>\n",
       "      <td>26</td>\n",
       "      <td>26,5</td>\n",
       "      <td>26,9</td>\n",
       "      <td>27,2</td>\n",
       "      <td>27,3</td>\n",
       "      <td>27,2</td>\n",
       "      <td>27</td>\n",
       "      <td>...</td>\n",
       "      <td>22010,29822</td>\n",
       "      <td>21739,26845</td>\n",
       "      <td>20039,73021</td>\n",
       "      <td>19702,64889</td>\n",
       "      <td>19385,31679</td>\n",
       "      <td>26250,40882</td>\n",
       "      <td>25507,69552</td>\n",
       "      <td>25175,36885</td>\n",
       "      <td>25421,23455</td>\n",
       "      <td>24603,44141</td>\n",
       "    </tr>\n",
       "    <tr>\n",
       "      <th>23</th>\n",
       "      <td>Belize</td>\n",
       "      <td>BLZ</td>\n",
       "      <td>Latin America &amp; Caribbean</td>\n",
       "      <td>69,9</td>\n",
       "      <td>67,4</td>\n",
       "      <td>65</td>\n",
       "      <td>62,7</td>\n",
       "      <td>60,5</td>\n",
       "      <td>58,5</td>\n",
       "      <td>56,6</td>\n",
       "      <td>...</td>\n",
       "      <td>3010,324122</td>\n",
       "      <td>3006,606998</td>\n",
       "      <td>3131,311036</td>\n",
       "      <td>2984,17016</td>\n",
       "      <td>3220,028656</td>\n",
       "      <td>3386,519104</td>\n",
       "      <td>3435,408215</td>\n",
       "      <td>3616,47032</td>\n",
       "      <td>3799,852311</td>\n",
       "      <td>3676,390327</td>\n",
       "    </tr>\n",
       "  </tbody>\n",
       "</table>\n",
       "<p>5 rows × 144 columns</p>\n",
       "</div>"
      ],
      "text/plain": [
       "           Country Name Country Code                     Region m1970 m1971  \\\n",
       "0                 Aruba          ABW  Latin America & Caribbean   NaN   NaN   \n",
       "6             Argentina          ARG  Latin America & Caribbean  59,4  58,7   \n",
       "9   Antigua and Barbuda          ATG  Latin America & Caribbean   NaN   NaN   \n",
       "20         Bahamas, The          BHS  Latin America & Caribbean    26  26,5   \n",
       "23               Belize          BLZ  Latin America & Caribbean  69,9  67,4   \n",
       "\n",
       "   m1972 m1973 m1974 m1975 m1976  ...        i2007        i2008        i2009  \\\n",
       "0    NaN   NaN   NaN   NaN   NaN  ...          NaN          NaN          NaN   \n",
       "6   57,8  56,7  55,2  53,1  50,5  ...  6074,411384  7555,321873  6929,449884   \n",
       "9    NaN   NaN   NaN   NaN   NaN  ...          NaN          NaN          NaN   \n",
       "20  26,9  27,2  27,3  27,2    27  ...  22010,29822  21739,26845  20039,73021   \n",
       "23    65  62,7  60,5  58,5  56,6  ...  3010,324122  3006,606998  3131,311036   \n",
       "\n",
       "          i2010        i2011        i2012        i2013        i2014  \\\n",
       "0           NaN          NaN          NaN          NaN          NaN   \n",
       "6   8747,586438  10926,70693  11185,78485  11210,87566  10547,20618   \n",
       "9           NaN          NaN          NaN          NaN          NaN   \n",
       "20  19702,64889  19385,31679  26250,40882  25507,69552  25175,36885   \n",
       "23   2984,17016  3220,028656  3386,519104  3435,408215   3616,47032   \n",
       "\n",
       "          i2015        i2016  \n",
       "0           NaN          NaN  \n",
       "6   11738,07146   10723,5525  \n",
       "9           NaN          NaN  \n",
       "20  25421,23455  24603,44141  \n",
       "23  3799,852311  3676,390327  \n",
       "\n",
       "[5 rows x 144 columns]"
      ]
     },
     "execution_count": 75,
     "metadata": {},
     "output_type": "execute_result"
    }
   ],
   "source": [
    "data_split_by_region = []\n",
    "for i in data['Region'].unique():\n",
    "    data_split_by_region.append(data[data[\"Region\"] == i])\n",
    "\n",
    "for i in data_split_by_region:\n",
    "    print('i.shape =',i.shape)\n",
    "\n",
    "data_split_by_region[0].head(5)"
   ]
  },
  {
   "cell_type": "markdown",
   "metadata": {},
   "source": [
    "역시 아까우니까 개별 데이터로.. 그런데 배운걸로 만드는게 아니라 기억나는데로 + 검색해서 짜다보니 아오.. 귀찮다.  \n",
    "추후 리펙토링을 해야겠다."
   ]
  },
  {
   "cell_type": "code",
   "execution_count": 76,
   "metadata": {},
   "outputs": [
    {
     "name": "stdout",
     "output_type": "stream",
     "text": [
      "(42, 4)\n"
     ]
    },
    {
     "data": {
      "text/html": [
       "<div>\n",
       "<style scoped>\n",
       "    .dataframe tbody tr th:only-of-type {\n",
       "        vertical-align: middle;\n",
       "    }\n",
       "\n",
       "    .dataframe tbody tr th {\n",
       "        vertical-align: top;\n",
       "    }\n",
       "\n",
       "    .dataframe thead th {\n",
       "        text-align: right;\n",
       "    }\n",
       "</style>\n",
       "<table border=\"1\" class=\"dataframe\">\n",
       "  <thead>\n",
       "    <tr style=\"text-align: right;\">\n",
       "      <th></th>\n",
       "      <th>Country Name</th>\n",
       "      <th>Region</th>\n",
       "      <th>m1970</th>\n",
       "      <th>i1970</th>\n",
       "    </tr>\n",
       "  </thead>\n",
       "  <tbody>\n",
       "    <tr>\n",
       "      <th>0</th>\n",
       "      <td>Aruba</td>\n",
       "      <td>Latin America &amp; Caribbean</td>\n",
       "      <td>NaN</td>\n",
       "      <td>NaN</td>\n",
       "    </tr>\n",
       "    <tr>\n",
       "      <th>6</th>\n",
       "      <td>Argentina</td>\n",
       "      <td>Latin America &amp; Caribbean</td>\n",
       "      <td>59,4</td>\n",
       "      <td>1195,191954</td>\n",
       "    </tr>\n",
       "    <tr>\n",
       "      <th>9</th>\n",
       "      <td>Antigua and Barbuda</td>\n",
       "      <td>Latin America &amp; Caribbean</td>\n",
       "      <td>NaN</td>\n",
       "      <td>NaN</td>\n",
       "    </tr>\n",
       "    <tr>\n",
       "      <th>20</th>\n",
       "      <td>Bahamas, The</td>\n",
       "      <td>Latin America &amp; Caribbean</td>\n",
       "      <td>26</td>\n",
       "      <td>NaN</td>\n",
       "    </tr>\n",
       "    <tr>\n",
       "      <th>23</th>\n",
       "      <td>Belize</td>\n",
       "      <td>Latin America &amp; Caribbean</td>\n",
       "      <td>69,9</td>\n",
       "      <td>NaN</td>\n",
       "    </tr>\n",
       "  </tbody>\n",
       "</table>\n",
       "</div>"
      ],
      "text/plain": [
       "           Country Name                     Region m1970        i1970\n",
       "0                 Aruba  Latin America & Caribbean   NaN          NaN\n",
       "6             Argentina  Latin America & Caribbean  59,4  1195,191954\n",
       "9   Antigua and Barbuda  Latin America & Caribbean   NaN          NaN\n",
       "20         Bahamas, The  Latin America & Caribbean    26          NaN\n",
       "23               Belize  Latin America & Caribbean  69,9          NaN"
      ]
     },
     "execution_count": 76,
     "metadata": {},
     "output_type": "execute_result"
    }
   ],
   "source": [
    "datas2 = []\n",
    "\n",
    "for i in range(len(data_split_by_region)):\n",
    "    d = []\n",
    "    for j in range(1970,2017):\n",
    "        d.append(data_split_by_region[i][['Country Name','Region',f'm{j}',f'i{j}']])\n",
    "        \n",
    "    datas2.append(d)\n",
    "\n",
    "print(datas2[0][0].shape)\n",
    "datas2[0][0].head(5)"
   ]
  },
  {
   "cell_type": "code",
   "execution_count": 83,
   "metadata": {},
   "outputs": [
    {
     "data": {
      "text/html": [
       "<div>\n",
       "<style scoped>\n",
       "    .dataframe tbody tr th:only-of-type {\n",
       "        vertical-align: middle;\n",
       "    }\n",
       "\n",
       "    .dataframe tbody tr th {\n",
       "        vertical-align: top;\n",
       "    }\n",
       "\n",
       "    .dataframe thead th {\n",
       "        text-align: right;\n",
       "    }\n",
       "</style>\n",
       "<table border=\"1\" class=\"dataframe\">\n",
       "  <thead>\n",
       "    <tr style=\"text-align: right;\">\n",
       "      <th></th>\n",
       "      <th>Country Name</th>\n",
       "      <th>Region</th>\n",
       "      <th>m1970</th>\n",
       "      <th>i1970</th>\n",
       "    </tr>\n",
       "  </thead>\n",
       "  <tbody>\n",
       "    <tr>\n",
       "      <th>6</th>\n",
       "      <td>Argentina</td>\n",
       "      <td>Latin America &amp; Caribbean</td>\n",
       "      <td>59,4</td>\n",
       "      <td>1195,191954</td>\n",
       "    </tr>\n",
       "    <tr>\n",
       "      <th>25</th>\n",
       "      <td>Bolivia</td>\n",
       "      <td>Latin America &amp; Caribbean</td>\n",
       "      <td>144</td>\n",
       "      <td>219,0317268</td>\n",
       "    </tr>\n",
       "    <tr>\n",
       "      <th>26</th>\n",
       "      <td>Brazil</td>\n",
       "      <td>Latin America &amp; Caribbean</td>\n",
       "      <td>102,8</td>\n",
       "      <td>399,7145944</td>\n",
       "    </tr>\n",
       "    <tr>\n",
       "      <th>35</th>\n",
       "      <td>Chile</td>\n",
       "      <td>Latin America &amp; Caribbean</td>\n",
       "      <td>67,2</td>\n",
       "      <td>811,4296828</td>\n",
       "    </tr>\n",
       "    <tr>\n",
       "      <th>41</th>\n",
       "      <td>Colombia</td>\n",
       "      <td>Latin America &amp; Caribbean</td>\n",
       "      <td>70,4</td>\n",
       "      <td>280,7895234</td>\n",
       "    </tr>\n",
       "    <tr>\n",
       "      <th>45</th>\n",
       "      <td>Cuba</td>\n",
       "      <td>Latin America &amp; Caribbean</td>\n",
       "      <td>38</td>\n",
       "      <td>587,7362169</td>\n",
       "    </tr>\n",
       "    <tr>\n",
       "      <th>56</th>\n",
       "      <td>Ecuador</td>\n",
       "      <td>Latin America &amp; Caribbean</td>\n",
       "      <td>95,7</td>\n",
       "      <td>433,9552826</td>\n",
       "    </tr>\n",
       "    <tr>\n",
       "      <th>125</th>\n",
       "      <td>Mexico</td>\n",
       "      <td>Latin America &amp; Caribbean</td>\n",
       "      <td>77,1</td>\n",
       "      <td>612,0083451</td>\n",
       "    </tr>\n",
       "    <tr>\n",
       "      <th>152</th>\n",
       "      <td>Peru</td>\n",
       "      <td>Latin America &amp; Caribbean</td>\n",
       "      <td>103,7</td>\n",
       "      <td>487,8347072</td>\n",
       "    </tr>\n",
       "    <tr>\n",
       "      <th>195</th>\n",
       "      <td>Trinidad and Tobago</td>\n",
       "      <td>Latin America &amp; Caribbean</td>\n",
       "      <td>43,8</td>\n",
       "      <td>725,4623766</td>\n",
       "    </tr>\n",
       "    <tr>\n",
       "      <th>206</th>\n",
       "      <td>Venezuela, RB</td>\n",
       "      <td>Latin America &amp; Caribbean</td>\n",
       "      <td>48,1</td>\n",
       "      <td>956,6995469</td>\n",
       "    </tr>\n",
       "  </tbody>\n",
       "</table>\n",
       "</div>"
      ],
      "text/plain": [
       "            Country Name                     Region  m1970        i1970\n",
       "6              Argentina  Latin America & Caribbean   59,4  1195,191954\n",
       "25               Bolivia  Latin America & Caribbean    144  219,0317268\n",
       "26                Brazil  Latin America & Caribbean  102,8  399,7145944\n",
       "35                 Chile  Latin America & Caribbean   67,2  811,4296828\n",
       "41              Colombia  Latin America & Caribbean   70,4  280,7895234\n",
       "45                  Cuba  Latin America & Caribbean     38  587,7362169\n",
       "56               Ecuador  Latin America & Caribbean   95,7  433,9552826\n",
       "125               Mexico  Latin America & Caribbean   77,1  612,0083451\n",
       "152                 Peru  Latin America & Caribbean  103,7  487,8347072\n",
       "195  Trinidad and Tobago  Latin America & Caribbean   43,8  725,4623766\n",
       "206        Venezuela, RB  Latin America & Caribbean   48,1  956,6995469"
      ]
     },
     "execution_count": 83,
     "metadata": {},
     "output_type": "execute_result"
    }
   ],
   "source": [
    "for i in range(len(datas2)):\n",
    "    for j in range(len(datas2[i])):\n",
    "        datas2[i][j] = datas2[i][j].dropna()\n",
    "datas2[0][0]"
   ]
  },
  {
   "cell_type": "markdown",
   "metadata": {},
   "source": [
    "조금 귀찮아졌으니 정리용으로..  \n",
    "datas2는 1. Region으로 나눠짐, 각 Region 안의 값은 연도별 데이터.(1970~2017)\n",
    "\n",
    "이제그래프를 차례대로 뽑아보자."
   ]
  },
  {
   "cell_type": "code",
   "execution_count": 93,
   "metadata": {},
   "outputs": [
    {
     "data": {
      "image/png": "[encoded data removed]",
      "text/plain": [
       "<Figure size 432x288 with 1 Axes>"
      ]
     },
     "metadata": {
      "needs_background": "light"
     },
     "output_type": "display_data"
    },
    {
     "data": {
      "image/png": "[encoded data removed]",
      "text/plain": [
       "<Figure size 432x288 with 1 Axes>"
      ]
     },
     "metadata": {
      "needs_background": "light"
     },
     "output_type": "display_data"
    },
    {
     "data": {
      "image/png": "[encoded data removed]",
      "text/plain": [
       "<Figure size 432x288 with 1 Axes>"
      ]
     },
     "metadata": {
      "needs_background": "light"
     },
     "output_type": "display_data"
    },
    {
     "data": {
      "image/png": "[encoded data removed]",
      "text/plain": [
       "<Figure size 432x288 with 1 Axes>"
      ]
     },
     "metadata": {
      "needs_background": "light"
     },
     "output_type": "display_data"
    },
    {
     "data": {
      "image/png": "[encoded data removed]",
      "text/plain": [
       "<Figure size 432x288 with 1 Axes>"
      ]
     },
     "metadata": {
      "needs_background": "light"
     },
     "output_type": "display_data"
    },
    {
     "data": {
      "image/png": "[encoded data removed]",
      "text/plain": [
       "<Figure size 432x288 with 1 Axes>"
      ]
     },
     "metadata": {
      "needs_background": "light"
     },
     "output_type": "display_data"
    },
    {
     "data": {
      "image/png": "[encoded data removed]",
      "text/plain": [
       "<Figure size 432x288 with 1 Axes>"
      ]
     },
     "metadata": {
      "needs_background": "light"
     },
     "output_type": "display_data"
    }
   ],
   "source": [
    "title_set = data['Region'].unique()\n",
    "for i in range(len(title_set)):\n",
    "    x_val2 = []\n",
    "    y_val2 = []\n",
    "    for j in range(len(datas2[i])):\n",
    "        for k in datas2[i][j].index:\n",
    "            x_val2.append(float(datas2[i][j][f'm{1970+j}'][k].replace(',','.')))\n",
    "            y_val2.append(float(datas2[i][j][f'i{1970+j}'][k].replace(',','.')))\n",
    "    plt.scatter(x_val2,y_val2)\n",
    "    plt.xlabel('infants_mortality per 1000')\n",
    "    plt.ylabel('income')\n",
    "    plt.title(f'Region: {title_set[i]} data')\n",
    "    plt.show()"
   ]
  },
  {
   "cell_type": "markdown",
   "metadata": {},
   "source": [
    ".... 여전히 맘에 드는 그래프가 나오지는 않는다.  \n",
    "추가로 아메리카 지역은 국가가 2개라 그래프조차 웃기다"
   ]
  },
  {
   "cell_type": "code",
   "execution_count": 94,
   "metadata": {},
   "outputs": [
    {
     "data": {
      "text/html": [
       "<div>\n",
       "<style scoped>\n",
       "    .dataframe tbody tr th:only-of-type {\n",
       "        vertical-align: middle;\n",
       "    }\n",
       "\n",
       "    .dataframe tbody tr th {\n",
       "        vertical-align: top;\n",
       "    }\n",
       "\n",
       "    .dataframe thead th {\n",
       "        text-align: right;\n",
       "    }\n",
       "</style>\n",
       "<table border=\"1\" class=\"dataframe\">\n",
       "  <thead>\n",
       "    <tr style=\"text-align: right;\">\n",
       "      <th></th>\n",
       "      <th>Country Name</th>\n",
       "      <th>Region</th>\n",
       "      <th>m1970</th>\n",
       "      <th>i1970</th>\n",
       "    </tr>\n",
       "  </thead>\n",
       "  <tbody>\n",
       "    <tr>\n",
       "      <th>32</th>\n",
       "      <td>Canada</td>\n",
       "      <td>North America</td>\n",
       "      <td>18,5</td>\n",
       "      <td>3399,299037</td>\n",
       "    </tr>\n",
       "    <tr>\n",
       "      <th>203</th>\n",
       "      <td>United States</td>\n",
       "      <td>North America</td>\n",
       "      <td>19,9</td>\n",
       "      <td>4591,218634</td>\n",
       "    </tr>\n",
       "  </tbody>\n",
       "</table>\n",
       "</div>"
      ],
      "text/plain": [
       "      Country Name         Region m1970        i1970\n",
       "32          Canada  North America  18,5  3399,299037\n",
       "203  United States  North America  19,9  4591,218634"
      ]
     },
     "execution_count": 94,
     "metadata": {},
     "output_type": "execute_result"
    }
   ],
   "source": [
    "datas2[6][0]"
   ]
  },
  {
   "cell_type": "markdown",
   "metadata": {},
   "source": [
    "좀 다르게 데이터를 나눠보자..\n",
    "연도별로 나눠보면?"
   ]
  },
  {
   "cell_type": "code",
   "execution_count": 96,
   "metadata": {},
   "outputs": [
    {
     "data": {
      "text/plain": [
       "Index(['Country Name', 'Country Code', 'Region', 'm1970', 'm1971', 'm1972',\n",
       "       'm1973', 'm1974', 'm1975', 'm1976',\n",
       "       ...\n",
       "       'i2007', 'i2008', 'i2009', 'i2010', 'i2011', 'i2012', 'i2013', 'i2014',\n",
       "       'i2015', 'i2016'],\n",
       "      dtype='object', length=144)"
      ]
     },
     "execution_count": 96,
     "metadata": {},
     "output_type": "execute_result"
    }
   ],
   "source": [
    "data.columns"
   ]
  },
  {
   "cell_type": "code",
   "execution_count": 102,
   "metadata": {},
   "outputs": [
    {
     "data": {
      "text/html": [
       "<div>\n",
       "<style scoped>\n",
       "    .dataframe tbody tr th:only-of-type {\n",
       "        vertical-align: middle;\n",
       "    }\n",
       "\n",
       "    .dataframe tbody tr th {\n",
       "        vertical-align: top;\n",
       "    }\n",
       "\n",
       "    .dataframe thead th {\n",
       "        text-align: right;\n",
       "    }\n",
       "</style>\n",
       "<table border=\"1\" class=\"dataframe\">\n",
       "  <thead>\n",
       "    <tr style=\"text-align: right;\">\n",
       "      <th></th>\n",
       "      <th>Country Name</th>\n",
       "      <th>m1970</th>\n",
       "      <th>i1970</th>\n",
       "    </tr>\n",
       "  </thead>\n",
       "  <tbody>\n",
       "    <tr>\n",
       "      <th>0</th>\n",
       "      <td>Aruba</td>\n",
       "      <td>NaN</td>\n",
       "      <td>NaN</td>\n",
       "    </tr>\n",
       "    <tr>\n",
       "      <th>1</th>\n",
       "      <td>Afghanistan</td>\n",
       "      <td>204,8</td>\n",
       "      <td>150,5673375</td>\n",
       "    </tr>\n",
       "    <tr>\n",
       "      <th>2</th>\n",
       "      <td>Angola</td>\n",
       "      <td>NaN</td>\n",
       "      <td>NaN</td>\n",
       "    </tr>\n",
       "    <tr>\n",
       "      <th>3</th>\n",
       "      <td>Albania</td>\n",
       "      <td>NaN</td>\n",
       "      <td>NaN</td>\n",
       "    </tr>\n",
       "    <tr>\n",
       "      <th>4</th>\n",
       "      <td>Andorra</td>\n",
       "      <td>NaN</td>\n",
       "      <td>NaN</td>\n",
       "    </tr>\n",
       "    <tr>\n",
       "      <th>...</th>\n",
       "      <td>...</td>\n",
       "      <td>...</td>\n",
       "      <td>...</td>\n",
       "    </tr>\n",
       "    <tr>\n",
       "      <th>212</th>\n",
       "      <td>Kosovo</td>\n",
       "      <td>NaN</td>\n",
       "      <td>NaN</td>\n",
       "    </tr>\n",
       "    <tr>\n",
       "      <th>213</th>\n",
       "      <td>Yemen, Rep.</td>\n",
       "      <td>218,6</td>\n",
       "      <td>NaN</td>\n",
       "    </tr>\n",
       "    <tr>\n",
       "      <th>214</th>\n",
       "      <td>South Africa</td>\n",
       "      <td>NaN</td>\n",
       "      <td>NaN</td>\n",
       "    </tr>\n",
       "    <tr>\n",
       "      <th>215</th>\n",
       "      <td>Zambia</td>\n",
       "      <td>108,1</td>\n",
       "      <td>NaN</td>\n",
       "    </tr>\n",
       "    <tr>\n",
       "      <th>216</th>\n",
       "      <td>Zimbabwe</td>\n",
       "      <td>71,7</td>\n",
       "      <td>NaN</td>\n",
       "    </tr>\n",
       "  </tbody>\n",
       "</table>\n",
       "<p>217 rows × 3 columns</p>\n",
       "</div>"
      ],
      "text/plain": [
       "     Country Name  m1970        i1970\n",
       "0           Aruba    NaN          NaN\n",
       "1     Afghanistan  204,8  150,5673375\n",
       "2          Angola    NaN          NaN\n",
       "3         Albania    NaN          NaN\n",
       "4         Andorra    NaN          NaN\n",
       "..            ...    ...          ...\n",
       "212        Kosovo    NaN          NaN\n",
       "213   Yemen, Rep.  218,6          NaN\n",
       "214  South Africa    NaN          NaN\n",
       "215        Zambia  108,1          NaN\n",
       "216      Zimbabwe   71,7          NaN\n",
       "\n",
       "[217 rows x 3 columns]"
      ]
     },
     "execution_count": 102,
     "metadata": {},
     "output_type": "execute_result"
    }
   ],
   "source": [
    "datas3 = []\n",
    "for i in range(1970,2017):\n",
    "    datas3.append([i,data[['Country Name',f'm{i}',f'i{i}']]])\n",
    "\n",
    "datas3[0][1]"
   ]
  },
  {
   "cell_type": "markdown",
   "metadata": {},
   "source": [
    "결측치 제거"
   ]
  },
  {
   "cell_type": "code",
   "execution_count": 104,
   "metadata": {},
   "outputs": [
    {
     "name": "stdout",
     "output_type": "stream",
     "text": [
      "1970년도 데이터의 길이 = 47\n",
      "1971년도 데이터의 길이 = 75\n",
      "1972년도 데이터의 길이 = 76\n",
      "1973년도 데이터의 길이 = 77\n",
      "1974년도 데이터의 길이 = 79\n",
      "1975년도 데이터의 길이 = 79\n",
      "1976년도 데이터의 길이 = 80\n",
      "1977년도 데이터의 길이 = 80\n",
      "1978년도 데이터의 길이 = 81\n",
      "1979년도 데이터의 길이 = 81\n",
      "1980년도 데이터의 길이 = 117\n",
      "1981년도 데이터의 길이 = 120\n",
      "1982년도 데이터의 길이 = 119\n",
      "1983년도 데이터의 길이 = 121\n",
      "1984년도 데이터의 길이 = 123\n",
      "1985년도 데이터의 길이 = 126\n",
      "1986년도 데이터의 길이 = 127\n",
      "1987년도 데이터의 길이 = 127\n",
      "1988년도 데이터의 길이 = 128\n",
      "1989년도 데이터의 길이 = 133\n",
      "1990년도 데이터의 길이 = 137\n",
      "1991년도 데이터의 길이 = 137\n",
      "1992년도 데이터의 길이 = 138\n",
      "1993년도 데이터의 길이 = 144\n",
      "1994년도 데이터의 길이 = 145\n",
      "1995년도 데이터의 길이 = 155\n",
      "1996년도 데이터의 길이 = 156\n",
      "1997년도 데이터의 길이 = 160\n",
      "1998년도 데이터의 길이 = 161\n",
      "1999년도 데이터의 길이 = 162\n",
      "2000년도 데이터의 길이 = 164\n",
      "2001년도 데이터의 길이 = 167\n",
      "2002년도 데이터의 길이 = 168\n",
      "2003년도 데이터의 길이 = 169\n",
      "2004년도 데이터의 길이 = 171\n",
      "2005년도 데이터의 길이 = 171\n",
      "2006년도 데이터의 길이 = 173\n",
      "2007년도 데이터의 길이 = 173\n",
      "2008년도 데이터의 길이 = 172\n",
      "2009년도 데이터의 길이 = 171\n",
      "2010년도 데이터의 길이 = 171\n",
      "2011년도 데이터의 길이 = 174\n",
      "2012년도 데이터의 길이 = 171\n",
      "2013년도 데이터의 길이 = 171\n",
      "2014년도 데이터의 길이 = 169\n",
      "2015년도 데이터의 길이 = 168\n",
      "2016년도 데이터의 길이 = 159\n"
     ]
    }
   ],
   "source": [
    "for i in range(len(datas3)):\n",
    "    datas3[i][1] = datas3[i][1].dropna()\n",
    "    \n",
    "for j in datas3:\n",
    "    print(f'{j[0]}년도 데이터의 길이 = {len(j[1])}')"
   ]
  },
  {
   "cell_type": "markdown",
   "metadata": {},
   "source": [
    "적당히 보이는것중에 2013년도 데이터가 가장 실하다. 이걸 뽑아보자."
   ]
  },
  {
   "cell_type": "code",
   "execution_count": 118,
   "metadata": {},
   "outputs": [
    {
     "data": {
      "image/png": "[encoded data removed]",
      "text/plain": [
       "<Figure size 432x288 with 1 Axes>"
      ]
     },
     "metadata": {
      "needs_background": "light"
     },
     "output_type": "display_data"
    }
   ],
   "source": [
    "data_13_year = datas3[43][1]\n",
    "x_2013 = list(data_13_year['m2013'])\n",
    "y_2013 = list(data_13_year['i2013'])\n",
    "for i in range(len(x_2013)):\n",
    "    x_2013[i] = float(x_2013[i].replace(',','.'))\n",
    "    y_2013[i] = float(y_2013[i].replace(',','.'))\n",
    "\n",
    "plt.scatter(x_2013,y_2013)\n",
    "plt.xlabel('infant_mortality')\n",
    "plt.ylabel('income')\n",
    "plt.title('2013 data')\n",
    "plt.show()"
   ]
  },
  {
   "cell_type": "markdown",
   "metadata": {},
   "source": [
    "냅다 점만 찍으니 뭔가 허전하다..  \n",
    "기억을 되살려서 통계 그래프를 그려볼까?(한다면 내일, 4/23오후?)"
   ]
  },
  {
   "cell_type": "markdown",
   "metadata": {},
   "source": [
    "#### 여튼저튼 결론\n",
    "앞서 보았던 모든 그래프에서 쉽게 알 수 있듯이 국가별 소득과 영아사망률은 어느정도 반비례 관계라는 것을 쉽게 알 수 있었다.  \n",
    "간단히 맨 처음 그래프에 $y = \\frac{1}{x}$꼴의 선을 하나 그어보자."
   ]
  },
  {
   "cell_type": "code",
   "execution_count": 149,
   "metadata": {},
   "outputs": [
    {
     "name": "stdout",
     "output_type": "stream",
     "text": [
      "204.8 150.5673375 // 2.5 82019.94553\n"
     ]
    }
   ],
   "source": [
    "x_max = max(x_val)\n",
    "x_ind = x_val.index(x_max)\n",
    "y_max = max(y_val)\n",
    "y_ind = y_val.index(y_max)\n",
    "print(x_val[x_ind],y_val[x_ind],'//',x_val[y_ind],y_val[y_ind])\n",
    "# (96,276) & (2.3,80763)"
   ]
  },
  {
   "cell_type": "code",
   "execution_count": 152,
   "metadata": {},
   "outputs": [],
   "source": [
    "def f(x):\n",
    "    return 1/x\n",
    "\n",
    "x = np.linspace(2,205)\n",
    "y = 81800*f(x-1)+150"
   ]
  },
  {
   "cell_type": "code",
   "execution_count": 153,
   "metadata": {},
   "outputs": [
    {
     "data": {
      "image/png": "[encoded data removed]",
      "text/plain": [
       "<Figure size 432x288 with 1 Axes>"
      ]
     },
     "metadata": {
      "needs_background": "light"
     },
     "output_type": "display_data"
    }
   ],
   "source": [
    "plt.plot(x,y,'r-')\n",
    "plt.scatter(x_val,y_val)\n",
    "plt.xlabel('infants_mortality per 1000')\n",
    "plt.ylabel('income')\n",
    "plt.title('1970 - 2016 all data')\n",
    "plt.show()"
   ]
  },
  {
   "cell_type": "markdown",
   "metadata": {},
   "source": [
    "그리고 그 정확한 값은 맨 처음 datas로부터 뽑은 x_val과 y_val(각각 infant_mortality와 income의 결측치를 제거한 모음)로부터.."
   ]
  },
  {
   "cell_type": "code",
   "execution_count": 154,
   "metadata": {},
   "outputs": [
    {
     "data": {
      "text/plain": [
       "array([[ 1.        , -0.48262033],\n",
       "       [-0.48262033,  1.        ]])"
      ]
     },
     "execution_count": 154,
     "metadata": {},
     "output_type": "execute_result"
    }
   ],
   "source": [
    "np.corrcoef(x_val,y_val)"
   ]
  },
  {
   "cell_type": "markdown",
   "metadata": {},
   "source": [
    "음... 별로 좋은 값 같지는 않다..\n",
    "\n",
    "- 내일 aim? : \n",
    "    - 새 데이터로 의미있는 값 도출해보기....(가능할까?)"
   ]
  },
  {
   "cell_type": "code",
   "execution_count": null,
   "metadata": {},
   "outputs": [],
   "source": []
  }
 ],
 "metadata": {
  "interpreter": {
   "hash": "560c492c293c02ae4a3253a50c4deb63a9cc7f3296b0f6ad22562d2e1b889466"
  },
  "kernelspec": {
   "display_name": "Python 3.10.0 64-bit",
   "language": "python",
   "name": "python3"
  },
  "language_info": {
   "codemirror_mode": {
    "name": "ipython",
    "version": 3
   },
   "file_extension": ".py",
   "mimetype": "text/x-python",
   "name": "python",
   "nbconvert_exporter": "python",
   "pygments_lexer": "ipython3",
   "version": "3.10.0"
  },
  "orig_nbformat": 4
 },
 "nbformat": 4,
 "nbformat_minor": 2
}
